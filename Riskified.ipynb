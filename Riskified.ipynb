{
  "nbformat": 4,
  "nbformat_minor": 0,
  "metadata": {
    "colab": {
      "name": "Riskified.ipynb",
      "provenance": [],
      "collapsed_sections": [],
      "toc_visible": true,
      "authorship_tag": "ABX9TyNxAbMb4QBy7Ev2LPIGQiqB",
      "include_colab_link": true
    },
    "kernelspec": {
      "name": "python3",
      "display_name": "Python 3"
    }
  },
  "cells": [
    {
      "cell_type": "markdown",
      "metadata": {
        "id": "view-in-github",
        "colab_type": "text"
      },
      "source": [
        "<a href=\"https://colab.research.google.com/github/baroncurtin2/r_coding_exercise/blob/main/Riskified.ipynb\" target=\"_parent\"><img src=\"https://colab.research.google.com/assets/colab-badge.svg\" alt=\"Open In Colab\"/></a>"
      ]
    },
    {
      "cell_type": "markdown",
      "metadata": {
        "id": "RMxLBqReULUv"
      },
      "source": [
        "# Riskified Coding Test"
      ]
    },
    {
      "cell_type": "markdown",
      "metadata": {
        "id": "ohayHp3OTyeT"
      },
      "source": [
        "The dataframe attached has records of 1,000 objects with 3 columns:\n",
        "\n",
        "1. shape - square, triangle (equilateral) or circle\n",
        "\n",
        "2. color - blue, red, green or yellow\n",
        "\n",
        "3. area - area size in square inches"
      ]
    },
    {
      "cell_type": "code",
      "metadata": {
        "id": "Fw243JyWUSnY"
      },
      "source": [
        "%matplotlib inline\n",
        "\n",
        "# standard imports\n",
        "from pathlib import Path\n",
        "\n",
        "# third party imports\n",
        "import numpy as np\n",
        "import pandas as pd\n",
        "pd.options.display.float_format = '{:,.2f}'.format\n",
        "import matplotlib.pyplot as plt\n",
        "import seaborn as sns"
      ],
      "execution_count": null,
      "outputs": []
    },
    {
      "cell_type": "code",
      "metadata": {
        "id": "SxCtn--bUpHn"
      },
      "source": [
        "data_path = Path('data.csv')\n",
        "data = pd.read_csv(data_path, header=0)"
      ],
      "execution_count": null,
      "outputs": []
    },
    {
      "cell_type": "markdown",
      "metadata": {
        "id": "YymjDDnYVFkR"
      },
      "source": [
        "## Exploration"
      ]
    },
    {
      "cell_type": "code",
      "metadata": {
        "id": "dnUDDggtVIjt",
        "outputId": "b9eea6ef-3ce1-4a20-9399-326ea4084ac7",
        "colab": {
          "base_uri": "https://localhost:8080/",
          "height": 34
        }
      },
      "source": [
        "data.shape"
      ],
      "execution_count": null,
      "outputs": [
        {
          "output_type": "execute_result",
          "data": {
            "text/plain": [
              "(1000, 3)"
            ]
          },
          "metadata": {
            "tags": []
          },
          "execution_count": 222
        }
      ]
    },
    {
      "cell_type": "code",
      "metadata": {
        "id": "xYlMMVghVK5_",
        "outputId": "051ee38f-3bb4-4f2d-ce7b-584e6acf0833",
        "colab": {
          "base_uri": "https://localhost:8080/",
          "height": 195
        }
      },
      "source": [
        "data.head()"
      ],
      "execution_count": null,
      "outputs": [
        {
          "output_type": "execute_result",
          "data": {
            "text/html": [
              "<div>\n",
              "<style scoped>\n",
              "    .dataframe tbody tr th:only-of-type {\n",
              "        vertical-align: middle;\n",
              "    }\n",
              "\n",
              "    .dataframe tbody tr th {\n",
              "        vertical-align: top;\n",
              "    }\n",
              "\n",
              "    .dataframe thead th {\n",
              "        text-align: right;\n",
              "    }\n",
              "</style>\n",
              "<table border=\"1\" class=\"dataframe\">\n",
              "  <thead>\n",
              "    <tr style=\"text-align: right;\">\n",
              "      <th></th>\n",
              "      <th>shape</th>\n",
              "      <th>color</th>\n",
              "      <th>area</th>\n",
              "    </tr>\n",
              "  </thead>\n",
              "  <tbody>\n",
              "    <tr>\n",
              "      <th>0</th>\n",
              "      <td>square</td>\n",
              "      <td>yellow</td>\n",
              "      <td>9,409.00</td>\n",
              "    </tr>\n",
              "    <tr>\n",
              "      <th>1</th>\n",
              "      <td>circle</td>\n",
              "      <td>yellow</td>\n",
              "      <td>4,071.50</td>\n",
              "    </tr>\n",
              "    <tr>\n",
              "      <th>2</th>\n",
              "      <td>triangle</td>\n",
              "      <td>blue</td>\n",
              "      <td>2,028.00</td>\n",
              "    </tr>\n",
              "    <tr>\n",
              "      <th>3</th>\n",
              "      <td>square</td>\n",
              "      <td>blue</td>\n",
              "      <td>3,025.00</td>\n",
              "    </tr>\n",
              "    <tr>\n",
              "      <th>4</th>\n",
              "      <td>square</td>\n",
              "      <td>blue</td>\n",
              "      <td>9,216.00</td>\n",
              "    </tr>\n",
              "  </tbody>\n",
              "</table>\n",
              "</div>"
            ],
            "text/plain": [
              "      shape   color     area\n",
              "0    square  yellow 9,409.00\n",
              "1    circle  yellow 4,071.50\n",
              "2  triangle    blue 2,028.00\n",
              "3    square    blue 3,025.00\n",
              "4    square    blue 9,216.00"
            ]
          },
          "metadata": {
            "tags": []
          },
          "execution_count": 223
        }
      ]
    },
    {
      "cell_type": "code",
      "metadata": {
        "id": "z_z4QyhLVMiN",
        "outputId": "5a2c2ef2-737a-4682-a733-91d683b3128b",
        "colab": {
          "base_uri": "https://localhost:8080/",
          "height": 195
        }
      },
      "source": [
        "data.tail()"
      ],
      "execution_count": null,
      "outputs": [
        {
          "output_type": "execute_result",
          "data": {
            "text/html": [
              "<div>\n",
              "<style scoped>\n",
              "    .dataframe tbody tr th:only-of-type {\n",
              "        vertical-align: middle;\n",
              "    }\n",
              "\n",
              "    .dataframe tbody tr th {\n",
              "        vertical-align: top;\n",
              "    }\n",
              "\n",
              "    .dataframe thead th {\n",
              "        text-align: right;\n",
              "    }\n",
              "</style>\n",
              "<table border=\"1\" class=\"dataframe\">\n",
              "  <thead>\n",
              "    <tr style=\"text-align: right;\">\n",
              "      <th></th>\n",
              "      <th>shape</th>\n",
              "      <th>color</th>\n",
              "      <th>area</th>\n",
              "    </tr>\n",
              "  </thead>\n",
              "  <tbody>\n",
              "    <tr>\n",
              "      <th>995</th>\n",
              "      <td>square</td>\n",
              "      <td>green</td>\n",
              "      <td>81.00</td>\n",
              "    </tr>\n",
              "    <tr>\n",
              "      <th>996</th>\n",
              "      <td>square</td>\n",
              "      <td>yellow</td>\n",
              "      <td>4,624.00</td>\n",
              "    </tr>\n",
              "    <tr>\n",
              "      <th>997</th>\n",
              "      <td>circle</td>\n",
              "      <td>green</td>\n",
              "      <td>24,884.60</td>\n",
              "    </tr>\n",
              "    <tr>\n",
              "      <th>998</th>\n",
              "      <td>square</td>\n",
              "      <td>yellow</td>\n",
              "      <td>7,396.00</td>\n",
              "    </tr>\n",
              "    <tr>\n",
              "      <th>999</th>\n",
              "      <td>circle</td>\n",
              "      <td>red</td>\n",
              "      <td>15,836.80</td>\n",
              "    </tr>\n",
              "  </tbody>\n",
              "</table>\n",
              "</div>"
            ],
            "text/plain": [
              "      shape   color      area\n",
              "995  square   green     81.00\n",
              "996  square  yellow  4,624.00\n",
              "997  circle   green 24,884.60\n",
              "998  square  yellow  7,396.00\n",
              "999  circle     red 15,836.80"
            ]
          },
          "metadata": {
            "tags": []
          },
          "execution_count": 224
        }
      ]
    },
    {
      "cell_type": "markdown",
      "metadata": {
        "id": "sWaf_slTVZVS"
      },
      "source": [
        "# Questions"
      ]
    },
    {
      "cell_type": "markdown",
      "metadata": {
        "id": "5OEOCipsWBw5"
      },
      "source": [
        "1. Draw a boxplot showing the area size distribution for each shape."
      ]
    },
    {
      "cell_type": "code",
      "metadata": {
        "id": "dLRNe5UsXDSD",
        "outputId": "68dce2ed-47d2-4986-e7ac-99add3af00ab",
        "colab": {
          "base_uri": "https://localhost:8080/",
          "height": 369
        }
      },
      "source": [
        "from matplotlib.ticker import FuncFormatter\n",
        "\n",
        "boxplots = sns.displot(data=data, x='area', col='shape', hue='shape')\n",
        "\n",
        "for ax in boxplots.axes.flat:\n",
        "  ax.xaxis.set_major_formatter(FuncFormatter(lambda x, p: f'{x:,.0f}'))"
      ],
      "execution_count": null,
      "outputs": [
        {
          "output_type": "display_data",
          "data": {
            "image/png": "[encoded data removed]",
            "text/plain": [
              "<Figure size 1154.75x360 with 3 Axes>"
            ]
          },
          "metadata": {
            "tags": [],
            "needs_background": "light"
          }
        }
      ]
    },
    {
      "cell_type": "markdown",
      "metadata": {
        "id": "aBoZTf32WPyH"
      },
      "source": [
        "2. Calculate the mean, max, and standard deviation of the area size of each color."
      ]
    },
    {
      "cell_type": "code",
      "metadata": {
        "id": "GXB1P2L7XuZJ",
        "outputId": "adf8b121-8df2-4927-884b-6be5da77a33e",
        "colab": {
          "base_uri": "https://localhost:8080/",
          "height": 166
        }
      },
      "source": [
        "q2 = data.groupby('color')['area'].agg(['mean', 'max', 'std']).reset_index()\n",
        "q2"
      ],
      "execution_count": null,
      "outputs": [
        {
          "output_type": "execute_result",
          "data": {
            "text/html": [
              "<div>\n",
              "<style scoped>\n",
              "    .dataframe tbody tr th:only-of-type {\n",
              "        vertical-align: middle;\n",
              "    }\n",
              "\n",
              "    .dataframe tbody tr th {\n",
              "        vertical-align: top;\n",
              "    }\n",
              "\n",
              "    .dataframe thead th {\n",
              "        text-align: right;\n",
              "    }\n",
              "</style>\n",
              "<table border=\"1\" class=\"dataframe\">\n",
              "  <thead>\n",
              "    <tr style=\"text-align: right;\">\n",
              "      <th></th>\n",
              "      <th>color</th>\n",
              "      <th>mean</th>\n",
              "      <th>max</th>\n",
              "      <th>std</th>\n",
              "    </tr>\n",
              "  </thead>\n",
              "  <tbody>\n",
              "    <tr>\n",
              "      <th>0</th>\n",
              "      <td>blue</td>\n",
              "      <td>3,208.13</td>\n",
              "      <td>21,642.40</td>\n",
              "      <td>3,039.21</td>\n",
              "    </tr>\n",
              "    <tr>\n",
              "      <th>1</th>\n",
              "      <td>green</td>\n",
              "      <td>5,761.12</td>\n",
              "      <td>27,759.10</td>\n",
              "      <td>6,695.03</td>\n",
              "    </tr>\n",
              "    <tr>\n",
              "      <th>2</th>\n",
              "      <td>red</td>\n",
              "      <td>3,815.87</td>\n",
              "      <td>31,415.90</td>\n",
              "      <td>5,092.68</td>\n",
              "    </tr>\n",
              "    <tr>\n",
              "      <th>3</th>\n",
              "      <td>yellow</td>\n",
              "      <td>4,538.21</td>\n",
              "      <td>31,415.90</td>\n",
              "      <td>5,352.46</td>\n",
              "    </tr>\n",
              "  </tbody>\n",
              "</table>\n",
              "</div>"
            ],
            "text/plain": [
              "    color     mean       max      std\n",
              "0    blue 3,208.13 21,642.40 3,039.21\n",
              "1   green 5,761.12 27,759.10 6,695.03\n",
              "2     red 3,815.87 31,415.90 5,092.68\n",
              "3  yellow 4,538.21 31,415.90 5,352.46"
            ]
          },
          "metadata": {
            "tags": []
          },
          "execution_count": 226
        }
      ]
    },
    {
      "cell_type": "markdown",
      "metadata": {
        "id": "HWxO5mXEWT6J"
      },
      "source": [
        "3. What is the average area size of a yellow square?"
      ]
    },
    {
      "cell_type": "code",
      "metadata": {
        "id": "Gwod2bM2eoDB",
        "outputId": "d0cddb80-f9b5-40ce-a377-7172002e259b",
        "colab": {
          "base_uri": "https://localhost:8080/",
          "height": 34
        }
      },
      "source": [
        "q3 = data[(data['color'] == 'yellow') & (data['shape'] == 'square')]['area'].mean()\n",
        "\n",
        "print(f'The average size of the area of a yellow square is {q3:,.2f} square inches.')"
      ],
      "execution_count": null,
      "outputs": [
        {
          "output_type": "stream",
          "text": [
            "The average size of the area of a yellow square is 3,333.21 square inches.\n"
          ],
          "name": "stdout"
        }
      ]
    },
    {
      "cell_type": "markdown",
      "metadata": {
        "id": "ltEEISnkWXWU"
      },
      "source": [
        "4. Which shape is most likely to be green?"
      ]
    },
    {
      "cell_type": "code",
      "metadata": {
        "id": "oS5KYKOGhBqF",
        "outputId": "633008e1-38d4-49fa-eb8a-13577af91532",
        "colab": {
          "base_uri": "https://localhost:8080/",
          "height": 34
        }
      },
      "source": [
        "# count of each shape color grouping\n",
        "q4 = data.groupby(['shape', 'color']).size().reset_index(name='count')\n",
        "\n",
        "# count of all items within shape\n",
        "q4['total'] = q4.groupby('shape')['count'].transform('sum')\n",
        "\n",
        "# create ratio column\n",
        "q4['percent'] = q4['count'] / q4['total']\n",
        "q4 = q4.sort_values(['shape', 'percent'], ascending=[True, False])\n",
        "\n",
        "# get max percent (most likely green)\n",
        "green = q4[q4['color'] == 'green']\n",
        "most_likely = green[green['percent'] == green['percent'].max()]\n",
        "\n",
        "print(f'The shape most likely to be green is [{most_likely.at[1, \"shape\"]}].')\n"
      ],
      "execution_count": null,
      "outputs": [
        {
          "output_type": "stream",
          "text": [
            "The shape most likely to be green is [circle].\n"
          ],
          "name": "stdout"
        }
      ]
    },
    {
      "cell_type": "markdown",
      "metadata": {
        "id": "nv1cB2XZWc-p"
      },
      "source": [
        "5. Given the fact that the object is red, with an area size larger than 3,000 - what are the chances the object is a square? a triangle? a circle?\n"
      ]
    },
    {
      "cell_type": "code",
      "metadata": {
        "id": "y_o7_qduEICl",
        "outputId": "ba71d46a-3ba9-4cb9-920e-c24c034d422a",
        "colab": {
          "base_uri": "https://localhost:8080/",
          "height": 136
        }
      },
      "source": [
        "# filter for red and area > 3000\n",
        "q5 = data[(data['color'] == 'red') & (data['area'] > 3000)]\n",
        "\n",
        "# get red count > 3000 by shape\n",
        "q5 = q5.groupby('shape').size().reset_index(name='count')\n",
        "\n",
        "# get total count of all objects that are red and have an area > 3000\n",
        "q5['total'] = q5['count'].sum()\n",
        "\n",
        "# get ratio\n",
        "q5['percent'] = q5['count'] / q5['total']\n",
        "q5"
      ],
      "execution_count": null,
      "outputs": [
        {
          "output_type": "execute_result",
          "data": {
            "text/html": [
              "<div>\n",
              "<style scoped>\n",
              "    .dataframe tbody tr th:only-of-type {\n",
              "        vertical-align: middle;\n",
              "    }\n",
              "\n",
              "    .dataframe tbody tr th {\n",
              "        vertical-align: top;\n",
              "    }\n",
              "\n",
              "    .dataframe thead th {\n",
              "        text-align: right;\n",
              "    }\n",
              "</style>\n",
              "<table border=\"1\" class=\"dataframe\">\n",
              "  <thead>\n",
              "    <tr style=\"text-align: right;\">\n",
              "      <th></th>\n",
              "      <th>shape</th>\n",
              "      <th>count</th>\n",
              "      <th>total</th>\n",
              "      <th>percent</th>\n",
              "    </tr>\n",
              "  </thead>\n",
              "  <tbody>\n",
              "    <tr>\n",
              "      <th>0</th>\n",
              "      <td>circle</td>\n",
              "      <td>20</td>\n",
              "      <td>125</td>\n",
              "      <td>0.16</td>\n",
              "    </tr>\n",
              "    <tr>\n",
              "      <th>1</th>\n",
              "      <td>square</td>\n",
              "      <td>21</td>\n",
              "      <td>125</td>\n",
              "      <td>0.17</td>\n",
              "    </tr>\n",
              "    <tr>\n",
              "      <th>2</th>\n",
              "      <td>triangle</td>\n",
              "      <td>84</td>\n",
              "      <td>125</td>\n",
              "      <td>0.67</td>\n",
              "    </tr>\n",
              "  </tbody>\n",
              "</table>\n",
              "</div>"
            ],
            "text/plain": [
              "      shape  count  total  percent\n",
              "0    circle     20    125     0.16\n",
              "1    square     21    125     0.17\n",
              "2  triangle     84    125     0.67"
            ]
          },
          "metadata": {
            "tags": []
          },
          "execution_count": 229
        }
      ]
    },
    {
      "cell_type": "markdown",
      "metadata": {
        "id": "2t2bGcGgWgWd"
      },
      "source": [
        "6. Write a function that calculates the side or radius of an object, depending on the shape and area of the object [for an equilateral triangle - area = (side ^ 2) * sqrt(3) / 4].\n"
      ]
    },
    {
      "cell_type": "code",
      "metadata": {
        "id": "RIS_-hw7EkAk"
      },
      "source": [
        "from math import pi, sqrt\n",
        "\n",
        "def square_side_from_area(area):\n",
        "  return sqrt(area)\n",
        "\n",
        "def circle_radius_from_area(area):\n",
        "  # a = pi * r**2\n",
        "  r = sqrt(area / pi)\n",
        "  return r\n",
        "\n",
        "def triangle_side_from_area(area):\n",
        "  # area = (side ^ 2) * sqrt(3) / 4\n",
        "  side = sqrt(area * 4 / sqrt(3))\n",
        "  return side\n",
        "\n",
        "def calculate_side_or_r(shape, area):\n",
        "  calculator = {\n",
        "      'square':  square_side_from_area,\n",
        "      'circle': circle_radius_from_area,\n",
        "      'triangle': triangle_side_from_area\n",
        "  }\n",
        "\n",
        "  return calculator[shape](area)\n"
      ],
      "execution_count": null,
      "outputs": []
    },
    {
      "cell_type": "markdown",
      "metadata": {
        "id": "XPSR1eouWkSf"
      },
      "source": [
        "7. Add a column to the dataset called \"side\" that shows the size matching the area in each row, round that number to the closest integer (shape side or radius)."
      ]
    },
    {
      "cell_type": "code",
      "metadata": {
        "id": "UPMxAf0hHhV-",
        "outputId": "7084125b-ec70-4837-9d68-25ef1fbbfa7d",
        "colab": {
          "base_uri": "https://localhost:8080/",
          "height": 402
        }
      },
      "source": [
        "data['side'] = data.apply(lambda x: calculate_side_or_r(x['shape'], x['area']), axis=1).round()\n",
        "data"
      ],
      "execution_count": null,
      "outputs": [
        {
          "output_type": "execute_result",
          "data": {
            "text/html": [
              "<div>\n",
              "<style scoped>\n",
              "    .dataframe tbody tr th:only-of-type {\n",
              "        vertical-align: middle;\n",
              "    }\n",
              "\n",
              "    .dataframe tbody tr th {\n",
              "        vertical-align: top;\n",
              "    }\n",
              "\n",
              "    .dataframe thead th {\n",
              "        text-align: right;\n",
              "    }\n",
              "</style>\n",
              "<table border=\"1\" class=\"dataframe\">\n",
              "  <thead>\n",
              "    <tr style=\"text-align: right;\">\n",
              "      <th></th>\n",
              "      <th>shape</th>\n",
              "      <th>color</th>\n",
              "      <th>area</th>\n",
              "      <th>side</th>\n",
              "    </tr>\n",
              "  </thead>\n",
              "  <tbody>\n",
              "    <tr>\n",
              "      <th>0</th>\n",
              "      <td>square</td>\n",
              "      <td>yellow</td>\n",
              "      <td>9,409.00</td>\n",
              "      <td>97.00</td>\n",
              "    </tr>\n",
              "    <tr>\n",
              "      <th>1</th>\n",
              "      <td>circle</td>\n",
              "      <td>yellow</td>\n",
              "      <td>4,071.50</td>\n",
              "      <td>36.00</td>\n",
              "    </tr>\n",
              "    <tr>\n",
              "      <th>2</th>\n",
              "      <td>triangle</td>\n",
              "      <td>blue</td>\n",
              "      <td>2,028.00</td>\n",
              "      <td>68.00</td>\n",
              "    </tr>\n",
              "    <tr>\n",
              "      <th>3</th>\n",
              "      <td>square</td>\n",
              "      <td>blue</td>\n",
              "      <td>3,025.00</td>\n",
              "      <td>55.00</td>\n",
              "    </tr>\n",
              "    <tr>\n",
              "      <th>4</th>\n",
              "      <td>square</td>\n",
              "      <td>blue</td>\n",
              "      <td>9,216.00</td>\n",
              "      <td>96.00</td>\n",
              "    </tr>\n",
              "    <tr>\n",
              "      <th>...</th>\n",
              "      <td>...</td>\n",
              "      <td>...</td>\n",
              "      <td>...</td>\n",
              "      <td>...</td>\n",
              "    </tr>\n",
              "    <tr>\n",
              "      <th>995</th>\n",
              "      <td>square</td>\n",
              "      <td>green</td>\n",
              "      <td>81.00</td>\n",
              "      <td>9.00</td>\n",
              "    </tr>\n",
              "    <tr>\n",
              "      <th>996</th>\n",
              "      <td>square</td>\n",
              "      <td>yellow</td>\n",
              "      <td>4,624.00</td>\n",
              "      <td>68.00</td>\n",
              "    </tr>\n",
              "    <tr>\n",
              "      <th>997</th>\n",
              "      <td>circle</td>\n",
              "      <td>green</td>\n",
              "      <td>24,884.60</td>\n",
              "      <td>89.00</td>\n",
              "    </tr>\n",
              "    <tr>\n",
              "      <th>998</th>\n",
              "      <td>square</td>\n",
              "      <td>yellow</td>\n",
              "      <td>7,396.00</td>\n",
              "      <td>86.00</td>\n",
              "    </tr>\n",
              "    <tr>\n",
              "      <th>999</th>\n",
              "      <td>circle</td>\n",
              "      <td>red</td>\n",
              "      <td>15,836.80</td>\n",
              "      <td>71.00</td>\n",
              "    </tr>\n",
              "  </tbody>\n",
              "</table>\n",
              "<p>1000 rows × 4 columns</p>\n",
              "</div>"
            ],
            "text/plain": [
              "        shape   color      area  side\n",
              "0      square  yellow  9,409.00 97.00\n",
              "1      circle  yellow  4,071.50 36.00\n",
              "2    triangle    blue  2,028.00 68.00\n",
              "3      square    blue  3,025.00 55.00\n",
              "4      square    blue  9,216.00 96.00\n",
              "..        ...     ...       ...   ...\n",
              "995    square   green     81.00  9.00\n",
              "996    square  yellow  4,624.00 68.00\n",
              "997    circle   green 24,884.60 89.00\n",
              "998    square  yellow  7,396.00 86.00\n",
              "999    circle     red 15,836.80 71.00\n",
              "\n",
              "[1000 rows x 4 columns]"
            ]
          },
          "metadata": {
            "tags": []
          },
          "execution_count": 231
        }
      ]
    },
    {
      "cell_type": "markdown",
      "metadata": {
        "id": "PCuQ2lh5Wn7U"
      },
      "source": [
        "8. Draw a boxplot showing the side size distribution for each shape - what can you infer from this plot?"
      ]
    },
    {
      "cell_type": "code",
      "metadata": {
        "id": "vq31lDPHKzEb",
        "outputId": "13e6424a-3f24-4f09-b102-9e72b4ef1da3",
        "colab": {
          "base_uri": "https://localhost:8080/",
          "height": 400
        }
      },
      "source": [
        "plt.figure(figsize=(10, 8))\n",
        "g = sns.catplot(data=data, x='shape', y='side', hue='shape', kind='box')"
      ],
      "execution_count": null,
      "outputs": [
        {
          "output_type": "display_data",
          "data": {
            "text/plain": [
              "<Figure size 720x576 with 0 Axes>"
            ]
          },
          "metadata": {
            "tags": []
          }
        },
        {
          "output_type": "display_data",
          "data": {
            "image/png": "[encoded data removed]",
            "text/plain": [
              "<Figure size 360x360 with 1 Axes>"
            ]
          },
          "metadata": {
            "tags": [],
            "needs_background": "light"
          }
        }
      ]
    },
    {
      "cell_type": "markdown",
      "metadata": {
        "id": "G3MAklJFLpTX"
      },
      "source": [
        "From this set of boxplots, it can be inferred that the triangles in this dataset generally have longer sides than the sides of squares and the radii of the circles. The median triangle side is larger than both the median circle radius and the square side. There is also a higher variance in the sizes of triangles than that of squares or circles."
      ]
    },
    {
      "cell_type": "markdown",
      "metadata": {
        "id": "L1bWUduXWsRU"
      },
      "source": [
        "9. Make a scatter plot with \"side\" on the x axis, \"area\" on the y axis with a different color for each shape."
      ]
    },
    {
      "cell_type": "code",
      "metadata": {
        "id": "eC-KGtG0NT7z",
        "outputId": "0cbc29ee-7437-42db-e244-fb689c61c130",
        "colab": {
          "base_uri": "https://localhost:8080/",
          "height": 648
        }
      },
      "source": [
        "plt.figure(figsize=(10, 8))\n",
        "g = sns.scatterplot(x='side', y='area', hue='shape', data=data)\n",
        "ylabels = [f'{y:,.0f}' for y in g.get_yticks()]\n",
        "g.set_yticklabels(ylabels)"
      ],
      "execution_count": null,
      "outputs": [
        {
          "output_type": "execute_result",
          "data": {
            "text/plain": [
              "[Text(0, 0, '-5,000'),\n",
              " Text(0, 0, '0'),\n",
              " Text(0, 0, '5,000'),\n",
              " Text(0, 0, '10,000'),\n",
              " Text(0, 0, '15,000'),\n",
              " Text(0, 0, '20,000'),\n",
              " Text(0, 0, '25,000'),\n",
              " Text(0, 0, '30,000'),\n",
              " Text(0, 0, '35,000')]"
            ]
          },
          "metadata": {
            "tags": []
          },
          "execution_count": 233
        },
        {
          "output_type": "display_data",
          "data": {
            "image/png": "[encoded data removed]",
            "text/plain": [
              "<Figure size 720x576 with 1 Axes>"
            ]
          },
          "metadata": {
            "tags": [],
            "needs_background": "light"
          }
        }
      ]
    },
    {
      "cell_type": "markdown",
      "metadata": {
        "id": "Hf2P3IuiWwKS"
      },
      "source": [
        "10. Create a dataframe, table or list that show for each shape:\n",
        "    \n",
        "    a. The proportion of red objects within the shape\n",
        "    \n",
        "    b. The proportion of blue area out of the shape's total area (sum of square inch blue area of the shape over sum of all shape size)."
      ]
    },
    {
      "cell_type": "code",
      "metadata": {
        "id": "X56Z3-rkO_uz",
        "outputId": "54be179c-3218-4818-dcdd-ec8ca5d30615",
        "colab": {
          "base_uri": "https://localhost:8080/",
          "height": 166
        }
      },
      "source": [
        "ten_a = data.groupby(['shape', 'color']).size().reset_index(name='count')\n",
        "ten_a['total'] = ten_a.groupby('shape')['count'].transform('sum')\n",
        "ten_a['percent'] = ten_a['count']/ ten_a['total']\n",
        "\n",
        "ten_a.set_index('color').loc['red']"
      ],
      "execution_count": null,
      "outputs": [
        {
          "output_type": "execute_result",
          "data": {
            "text/html": [
              "<div>\n",
              "<style scoped>\n",
              "    .dataframe tbody tr th:only-of-type {\n",
              "        vertical-align: middle;\n",
              "    }\n",
              "\n",
              "    .dataframe tbody tr th {\n",
              "        vertical-align: top;\n",
              "    }\n",
              "\n",
              "    .dataframe thead th {\n",
              "        text-align: right;\n",
              "    }\n",
              "</style>\n",
              "<table border=\"1\" class=\"dataframe\">\n",
              "  <thead>\n",
              "    <tr style=\"text-align: right;\">\n",
              "      <th></th>\n",
              "      <th>shape</th>\n",
              "      <th>count</th>\n",
              "      <th>total</th>\n",
              "      <th>percent</th>\n",
              "    </tr>\n",
              "    <tr>\n",
              "      <th>color</th>\n",
              "      <th></th>\n",
              "      <th></th>\n",
              "      <th></th>\n",
              "      <th></th>\n",
              "    </tr>\n",
              "  </thead>\n",
              "  <tbody>\n",
              "    <tr>\n",
              "      <th>red</th>\n",
              "      <td>circle</td>\n",
              "      <td>30</td>\n",
              "      <td>120</td>\n",
              "      <td>0.25</td>\n",
              "    </tr>\n",
              "    <tr>\n",
              "      <th>red</th>\n",
              "      <td>square</td>\n",
              "      <td>56</td>\n",
              "      <td>477</td>\n",
              "      <td>0.12</td>\n",
              "    </tr>\n",
              "    <tr>\n",
              "      <th>red</th>\n",
              "      <td>triangle</td>\n",
              "      <td>204</td>\n",
              "      <td>403</td>\n",
              "      <td>0.51</td>\n",
              "    </tr>\n",
              "  </tbody>\n",
              "</table>\n",
              "</div>"
            ],
            "text/plain": [
              "          shape  count  total  percent\n",
              "color                                 \n",
              "red      circle     30    120     0.25\n",
              "red      square     56    477     0.12\n",
              "red    triangle    204    403     0.51"
            ]
          },
          "metadata": {
            "tags": []
          },
          "execution_count": 234
        }
      ]
    },
    {
      "cell_type": "code",
      "metadata": {
        "id": "V7NC9fC9Y1oY",
        "outputId": "ea6113f8-8a8a-4cdf-e536-c42901aa3ae5",
        "colab": {
          "base_uri": "https://localhost:8080/",
          "height": 166
        }
      },
      "source": [
        "ten_b = data.groupby(['shape', 'color'])['area'].sum().reset_index()\n",
        "ten_b['total'] = ten_b.groupby('shape')['area'].transform('sum')\n",
        "ten_b['percent'] = ten_b['area']/ ten_b['total']\n",
        "\n",
        "ten_b.set_index('color').loc['blue']"
      ],
      "execution_count": null,
      "outputs": [
        {
          "output_type": "execute_result",
          "data": {
            "text/html": [
              "<div>\n",
              "<style scoped>\n",
              "    .dataframe tbody tr th:only-of-type {\n",
              "        vertical-align: middle;\n",
              "    }\n",
              "\n",
              "    .dataframe tbody tr th {\n",
              "        vertical-align: top;\n",
              "    }\n",
              "\n",
              "    .dataframe thead th {\n",
              "        text-align: right;\n",
              "    }\n",
              "</style>\n",
              "<table border=\"1\" class=\"dataframe\">\n",
              "  <thead>\n",
              "    <tr style=\"text-align: right;\">\n",
              "      <th></th>\n",
              "      <th>shape</th>\n",
              "      <th>area</th>\n",
              "      <th>total</th>\n",
              "      <th>percent</th>\n",
              "    </tr>\n",
              "    <tr>\n",
              "      <th>color</th>\n",
              "      <th></th>\n",
              "      <th></th>\n",
              "      <th></th>\n",
              "      <th></th>\n",
              "    </tr>\n",
              "  </thead>\n",
              "  <tbody>\n",
              "    <tr>\n",
              "      <th>blue</th>\n",
              "      <td>circle</td>\n",
              "      <td>78,665.40</td>\n",
              "      <td>1,284,417.90</td>\n",
              "      <td>0.06</td>\n",
              "    </tr>\n",
              "    <tr>\n",
              "      <th>blue</th>\n",
              "      <td>square</td>\n",
              "      <td>586,415.00</td>\n",
              "      <td>1,627,190.00</td>\n",
              "      <td>0.36</td>\n",
              "    </tr>\n",
              "    <tr>\n",
              "      <th>blue</th>\n",
              "      <td>triangle</td>\n",
              "      <td>489,847.00</td>\n",
              "      <td>1,033,682.00</td>\n",
              "      <td>0.47</td>\n",
              "    </tr>\n",
              "  </tbody>\n",
              "</table>\n",
              "</div>"
            ],
            "text/plain": [
              "          shape       area        total  percent\n",
              "color                                           \n",
              "blue     circle  78,665.40 1,284,417.90     0.06\n",
              "blue     square 586,415.00 1,627,190.00     0.36\n",
              "blue   triangle 489,847.00 1,033,682.00     0.47"
            ]
          },
          "metadata": {
            "tags": []
          },
          "execution_count": 235
        }
      ]
    },
    {
      "cell_type": "markdown",
      "metadata": {
        "id": "XRehQNZYW1k3"
      },
      "source": [
        "11. Create a function that calculates 10. b. for a given shape and color."
      ]
    },
    {
      "cell_type": "code",
      "metadata": {
        "id": "PP8OIobue7vS"
      },
      "source": [
        "def calculate_area_proportion(shape, color, data=data):\n",
        "  # assumption of using the full data set\n",
        "  _df = data.groupby(['shape', 'color'])['area'].sum().reset_index()\n",
        "\n",
        "  # filter for shape\n",
        "  _df = _df[(_df['shape'] == shape)]\n",
        "\n",
        "  # create total\n",
        "  _df['total'] = _df.groupby('shape')['area'].transform('sum')\n",
        "\n",
        "  # create percent\n",
        "  _df['percent'] = _df['area']/ _df['total']\n",
        "\n",
        "  # return specified propotion\n",
        "  percent = _df.set_index('color').at[color, 'percent']\n",
        "  print(f'The proportion of {color} area out of the {shape}\\'s total area is {percent:.2%}.')\n",
        "  return percent"
      ],
      "execution_count": null,
      "outputs": []
    },
    {
      "cell_type": "code",
      "metadata": {
        "id": "4hq1PSl7ht1L",
        "outputId": "49c07b84-7dfd-4964-c7af-da2355e7601c",
        "colab": {
          "base_uri": "https://localhost:8080/",
          "height": 50
        }
      },
      "source": [
        "calculate_area_proportion('circle', 'blue')"
      ],
      "execution_count": null,
      "outputs": [
        {
          "output_type": "stream",
          "text": [
            "The proportion of blue area out of the circle's total area is 6.12%.\n"
          ],
          "name": "stdout"
        },
        {
          "output_type": "execute_result",
          "data": {
            "text/plain": [
              "0.06124595429571636"
            ]
          },
          "metadata": {
            "tags": []
          },
          "execution_count": 237
        }
      ]
    }
  ]
}